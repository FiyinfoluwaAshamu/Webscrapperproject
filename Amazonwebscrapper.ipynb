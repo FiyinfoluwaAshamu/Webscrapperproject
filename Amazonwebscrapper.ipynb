{
 "cells": [
  {
   "cell_type": "code",
   "execution_count": 1,
   "metadata": {},
   "outputs": [],
   "source": [
    "#Import Libraries\n",
    "from bs4 import BeautifulSoup\n",
    "import requests\n",
    "import smtplib\n",
    "import time\n",
    "import datetime"
   ]
  },
  {
   "cell_type": "code",
   "execution_count": 2,
   "metadata": {},
   "outputs": [
    {
     "name": "stdout",
     "output_type": "stream",
     "text": [
      "\n",
      "            I survived another meeting... should have been an email - Funny coffee mug by Donbicentenario - 11OZ Ceramic - Best gift or souvenir. SHIPS FROM USA\n",
      "           \n",
      "\n",
      "\n",
      "\n",
      "\n",
      "                          $14.99\n",
      "                         \n",
      "\n",
      "                          $14.99\n",
      "                         \n",
      "\n",
      "\n",
      "\n"
     ]
    }
   ],
   "source": [
    "# Connect to the website to puul the data\n",
    "URL = 'https://www.amazon.com/survived-another-meeting-should-email/dp/B01NCTTSS6?psc=1&pd_rd_w=NJqVV&pf_rd_p=ba3aa08d-8a1a-4304-9b22-d84a2301c90e&pf_rd_r=WXM7QKBV730XCN6P50QV&pd_rd_r=394bd4c5-4300-476e-97c0-dec944177511&pd_rd_wg=AIFsF&ref_=sspa_dk_rhf_detail_pt_sub_0&spLa=ZW5jcnlwdGVkUXVhbGlmaWVyPUEzNVdOVzJPRTlLN1NSJmVuY3J5cHRlZElkPUEwODAxNDMwMUU0VDdCU1EyNEFVQiZlbmNyeXB0ZWRBZElkPUEwNzI4NDI5Slg5UDlFNjVVMzc0JndpZGdldE5hbWU9c3BfcmhmX2RldGFpbCZhY3Rpb249Y2xpY2tSZWRpcmVjdCZkb05vdExvZ0NsaWNrPXRydWU='\n",
    "headers = {\"User-Agent\": \"Mozilla/5.0 (Windows NT 10.0; Win64; x64) AppleWebKit/537.36 (KHTML, like Gecko) Chrome/97.0.4692.99 Safari/537.36\", \"Accept-Encoding\": \"gzip, deflate, br\", \"Accept\": \"text/html,application/xhtml+xml,application/xml;q=0.9,image/avif,image/webp,image/apng,*/*;q=0.8,application/signed-exchange;v=b3;q=0.9\", \"DNT\":\"1\", \"Connection\": \"close\", \"Upgrade-Insecure-Requests\": \"1\"}\n",
    "page = requests.get(URL, headers=headers)\n",
    "Soup1 = BeautifulSoup(page.content, \"html.parser\")\n",
    "Soup2 = BeautifulSoup(Soup1.prettify(), \"html.parser\")\n",
    "title = Soup2.find(id = \"productTitle\").get_text()\n",
    "price = Soup2.find(id =\"corePrice_feature_div\").get_text()\n",
    "print(title)\n",
    "print(price)"
   ]
  },
  {
   "cell_type": "code",
   "execution_count": 3,
   "metadata": {},
   "outputs": [
    {
     "name": "stdout",
     "output_type": "stream",
     "text": [
      "I survived another meeting... should have been an email - Funny coffee mug \n",
      "14.9\n"
     ]
    }
   ],
   "source": [
    "price = price.strip()[1:5]\n",
    "title = title.strip()[:75]\n",
    "print (title)\n",
    "print (price)\n"
   ]
  },
  {
   "cell_type": "code",
   "execution_count": 4,
   "metadata": {},
   "outputs": [
    {
     "name": "stdout",
     "output_type": "stream",
     "text": [
      "2022-02-19\n"
     ]
    }
   ],
   "source": [
    "import datetime\n",
    "today = datetime.date.today()\n",
    "print(today)"
   ]
  },
  {
   "cell_type": "code",
   "execution_count": 5,
   "metadata": {},
   "outputs": [],
   "source": [
    "import csv\n",
    "header = ['Tile', 'Price', 'Date']\n",
    "data = [title, price, today]\n",
    "with open('Amazonwebsscrapper.csv', 'w', newline='', encoding='UTF8') as f:\n",
    "    writer = csv.writer(f)\n",
    "    writer.writerow(header)\n",
    "    writer.writerow(data)\n",
    "    "
   ]
  },
  {
   "cell_type": "code",
   "execution_count": 6,
   "metadata": {},
   "outputs": [
    {
     "name": "stdout",
     "output_type": "stream",
     "text": [
      "                                                Tile  Price        Date\n",
      "0  I survived another meeting... should have been...   14.9  2022-02-19\n"
     ]
    }
   ],
   "source": [
    "import pandas as pd\n",
    "amzndata = pd.read_csv(r\"C:\\Users\\hp\\Downloads\\Amazonwebsscrapper.csv\")\n",
    "print (amzndata)"
   ]
  },
  {
   "cell_type": "code",
   "execution_count": 9,
   "metadata": {},
   "outputs": [],
   "source": [
    "#Apend data to csv\n",
    "\n",
    "with open('Amazonwebsscrapper.csv', 'a+', newline='', encoding='UTF8') as f:\n",
    "    writer = csv.writer(f)\n",
    "    writer.writerow(data)"
   ]
  },
  {
   "cell_type": "code",
   "execution_count": 10,
   "metadata": {},
   "outputs": [],
   "source": [
    "def check_pricedaily():\n",
    "    URL = 'https://www.amazon.com/survived-another-meeting-should-email/dp/B01NCTTSS6?psc=1&pd_rd_w=NJqVV&pf_rd_p=ba3aa08d-8a1a-4304-9b22-d84a2301c90e&pf_rd_r=WXM7QKBV730XCN6P50QV&pd_rd_r=394bd4c5-4300-476e-97c0-dec944177511&pd_rd_wg=AIFsF&ref_=sspa_dk_rhf_detail_pt_sub_0&spLa=ZW5jcnlwdGVkUXVhbGlmaWVyPUEzNVdOVzJPRTlLN1NSJmVuY3J5cHRlZElkPUEwODAxNDMwMUU0VDdCU1EyNEFVQiZlbmNyeXB0ZWRBZElkPUEwNzI4NDI5Slg5UDlFNjVVMzc0JndpZGdldE5hbWU9c3BfcmhmX2RldGFpbCZhY3Rpb249Y2xpY2tSZWRpcmVjdCZkb05vdExvZ0NsaWNrPXRydWU='\n",
    "    headers = {\"User-Agent\": \"Mozilla/5.0 (Windows NT 10.0; Win64; x64) AppleWebKit/537.36 (KHTML, like Gecko) Chrome/97.0.4692.99 Safari/537.36\", \"Accept-Encoding\": \"gzip, deflate, br\", \"Accept\": \"text/html,application/xhtml+xml,application/xml;q=0.9,image/avif,image/webp,image/apng,*/*;q=0.8,application/signed-exchange;v=b3;q=0.9\", \"DNT\":\"1\", \"Connection\": \"close\", \"Upgrade-Insecure-Requests\": \"1\"}\n",
    "    page = requests.get(URL, headers=headers)\n",
    "    Soup1 = BeautifulSoup(page.content, \"html.parser\")\n",
    "    Soup2 = BeautifulSoup(Soup1.prettify(), \"html.parser\")\n",
    "    title = Soup2.find(id = \"productTitle\").get_text()\n",
    "    price = Soup2.find(id =\"corePrice_feature_div\").get_text()\n",
    "    price = price.strip()[1:5]\n",
    "    title = title.strip()[:75]\n",
    "    import datetime\n",
    "    today = datetime.date.today()\n",
    "    print(today)\n",
    "    import csv\n",
    "    header = ['Tile', 'Price', 'Date']\n",
    "    data = [title, price, today]\n",
    "    with open('Amazonwebsscrapper.csv', 'a+', newline='', encoding='UTF8') as f:\n",
    "        writer = csv.writer(f)\n",
    "        writer.writerow(data)"
   ]
  },
  {
   "cell_type": "code",
   "execution_count": null,
   "metadata": {},
   "outputs": [],
   "source": [
    "#Check price after a set of time which updates the csv\n",
    "while (True):\n",
    "    check_pricedaily()\n",
    "    time.sleep(172800)\n"
   ]
  },
  {
   "cell_type": "code",
   "execution_count": 14,
   "metadata": {},
   "outputs": [
    {
     "name": "stdout",
     "output_type": "stream",
     "text": [
      "                                                Tile  Price        Date\n",
      "0  I survived another meeting... should have been...   14.9  2022-02-19\n",
      "1  I survived another meeting... should have been...   14.9  2022-02-19\n",
      "2  I survived another meeting... should have been...   14.9  2022-02-19\n",
      "3  I survived another meeting... should have been...   14.9  2022-02-19\n",
      "4  I survived another meeting... should have been...   14.9  2022-02-19\n",
      "5  I survived another meeting... should have been...   14.9  2022-02-19\n",
      "6  I survived another meeting... should have been...   14.9  2022-02-19\n"
     ]
    }
   ],
   "source": [
    "import pandas as pd\n",
    "amzndata = pd.read_csv(r\"C:\\Users\\hp\\Downloads\\Amazonwebsscrapper.csv\")\n",
    "print (amzndata)"
   ]
  },
  {
   "cell_type": "code",
   "execution_count": null,
   "metadata": {},
   "outputs": [],
   "source": []
  }
 ],
 "metadata": {
  "interpreter": {
   "hash": "b2bbca7b25589987bc69e95430193d6372f81759d34e6ca1eac7aad3047d77e5"
  },
  "kernelspec": {
   "display_name": "Python 3",
   "language": "python",
   "name": "python3"
  },
  "language_info": {
   "codemirror_mode": {
    "name": "ipython",
    "version": 3
   },
   "file_extension": ".py",
   "mimetype": "text/x-python",
   "name": "python",
   "nbconvert_exporter": "python",
   "pygments_lexer": "ipython3",
   "version": "3.7.1"
  }
 },
 "nbformat": 4,
 "nbformat_minor": 2
}
